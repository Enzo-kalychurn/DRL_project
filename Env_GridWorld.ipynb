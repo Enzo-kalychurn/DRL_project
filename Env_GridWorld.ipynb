{
 "cells": [
  {
   "cell_type": "code",
   "execution_count": null,
   "id": "0f6f8ade",
   "metadata": {},
   "outputs": [],
   "source": [
    "import numpy as np\n",
    "import matplotlib.pyplot as plt\n",
    "import torch\n",
    "import torch.nn as nn\n",
    "import torch.optim as optim"
   ]
  },
  {
   "cell_type": "markdown",
   "id": "b4362aed",
   "metadata": {},
   "source": [
    "Implémentation de l'environnement GridWorld\n",
    "\n"
   ]
  },
  {
   "cell_type": "code",
   "execution_count": null,
   "id": "51383571",
   "metadata": {},
   "outputs": [],
   "source": [
    "class GridWorld:\n",
    "    def __init__(self, size=(5, 5), goal=(4, 4)):\n",
    "        self.size = size\n",
    "        self.goal = goal\n",
    "        self.reset()\n",
    "\n",
    "    def reset(self):\n",
    "        self.agent_pos = (0, 0)\n",
    "        return self._get_state()\n",
    "\n",
    "    def _get_state(self):\n",
    "        return self.agent_pos[0] * self.size[1] + self.agent_pos[1]\n",
    "\n",
    "    def step(self, action):\n",
    "        # 0=up, 1=down, 2=left, 3=right\n",
    "        x, y = self.agent_pos\n",
    "        if action == 0 and x > 0: x -= 1\n",
    "        if action == 1 and x < self.size[0] - 1: x += 1\n",
    "        if action == 2 and y > 0: y -= 1\n",
    "        if action == 3 and y < self.size[1] - 1: y += 1\n",
    "        self.agent_pos = (x, y)\n",
    "        reward = 1 if self.agent_pos == self.goal else -0.01\n",
    "        done = self.agent_pos == self.goal\n",
    "        return self._get_state(), reward, done, {}\n",
    "\n",
    "    def get_valid_actions(self):\n",
    "        return [0, 1, 2, 3]\n"
   ]
  }
 ],
 "metadata": {
  "language_info": {
   "name": "python"
  }
 },
 "nbformat": 4,
 "nbformat_minor": 5
}
