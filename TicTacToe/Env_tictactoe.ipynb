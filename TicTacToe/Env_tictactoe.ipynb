{
 "cells": [
  {
   "cell_type": "code",
   "execution_count": null,
   "id": "267e876c",
   "metadata": {},
   "outputs": [],
   "source": [
    "import numpy as np\n",
    "import matplotlib.pyplot as plt\n",
    "import torch\n",
    "import torch.nn as nn\n",
    "import torch.optim as optim"
   ]
  },
  {
   "cell_type": "markdown",
   "id": "607fc62a",
   "metadata": {},
   "source": [
    "Implémentation de l'environnement TicTacToe"
   ]
  },
  {
   "cell_type": "code",
   "execution_count": null,
   "id": "b9e4e9a8",
   "metadata": {},
   "outputs": [],
   "source": [
    "import random\n",
    "\n",
    "class TicTacToe:\n",
    "    def __init__(self):\n",
    "        self.reset()\n",
    "\n",
    "    def reset(self):\n",
    "        self.board = [' '] * 9\n",
    "        self.current_player = 'X' \n",
    "        return self.board.copy()\n",
    "\n",
    "    def step(self, action):\n",
    "        if self.board[action] != ' ':\n",
    "            return self.board.copy(), -10, True, {\"invalid\": True}\n",
    "\n",
    "        self.board[action] = self.current_player\n",
    "        if self.check_win(self.current_player):\n",
    "            return self.board.copy(), 1, True, {}\n",
    "\n",
    "        if ' ' not in self.board:\n",
    "            return self.board.copy(), 0, True, {}\n",
    "\n",
    "        # adversaire random\n",
    "        opponent_move = random.choice([i for i, v in enumerate(self.board) if v == ' '])\n",
    "        self.board[opponent_move] = 'O'\n",
    "        if self.check_win('O'):\n",
    "            return self.board.copy(), -1, True, {}\n",
    "\n",
    "        return self.board.copy(), 0, False, {}\n",
    "\n",
    "    def check_win(self, player):\n",
    "        wins = [(0,1,2), (3,4,5), (6,7,8), (0,3,6), (1,4,7), (2,5,8), (0,4,8), (2,4,6)]\n",
    "        return any(all(self.board[i] == player for i in combo) for combo in wins)\n",
    "\n",
    "    def render(self):\n",
    "        for i in range(3):\n",
    "            print(self.board[3*i:3*(i+1)])\n"
   ]
  }
 ],
 "metadata": {
  "language_info": {
   "name": "python"
  }
 },
 "nbformat": 4,
 "nbformat_minor": 5
}
