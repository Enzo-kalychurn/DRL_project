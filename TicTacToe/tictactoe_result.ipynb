{
 "cells": [
  {
   "cell_type": "markdown",
   "id": "8166b691",
   "metadata": {},
   "source": [
    "RESULTATS METRIQUES"
   ]
  },
  {
   "cell_type": "markdown",
   "id": "167653d4",
   "metadata": {},
   "source": [
    "Random :\n",
    "\n",
    "- Score moyen 1000 :  0.390\n",
    "- Score moyen 10 000 : 0.300\n",
    "- Score moyen 100 000 :  0.380\n",
    "- Score moyen 1 000000 : \n",
    "- Score moyen X : \n",
    "\n",
    "- Longueur moyenne (steps) 1000 : 4.24 \n",
    "- Longueur moyenne (steps) 10 000 : 4.21\n",
    "- Longueur moyenne (steps) 100 000 : 4.22\n",
    "- Longueur moyenne (steps) 1 000000 : \n",
    "- Longueur moyenne (steps) X :"
   ]
  },
  {
   "cell_type": "markdown",
   "id": "cc100103",
   "metadata": {
    "vscode": {
     "languageId": "plaintext"
    }
   },
   "source": [
    "TabularQLearning :\n",
    "\n",
    "- Score moyen 1000 : 0.700\n",
    "- Score moyen 10 000 : 0.760\n",
    "- Score moyen 100 000 : 0.860\n",
    "- Score moyen 1 000000 : \n",
    "- Score moyen X :\n",
    "\n",
    "\n",
    "- Longueur moyenne (steps) 1000 :  3.70 \ 0.008",
    "- Longueur moyenne (steps) 10 000 : 3.68 \ 0.005",
    "- Longueur moyenne (steps) 100 000 : 3.45 \ 0.009",
    "- Longueur moyenne (steps) 1 000000 : \n",
    "- Longueur moyenne (steps) X :"
   ]
  },
  {
   "cell_type": "markdown",
   "id": "64f0f5c9",
   "metadata": {
    "vscode": {
     "languageId": "plaintext"
    }
   },
   "source": [
    "DeepQLearning\n",
    "\n",
    "- Score moyen 1000 : 0.910\n",
    "- Score moyen 10 000 : 0.940\n",
    "- Score moyen 100 000 : \n",
    "- Score moyen 1 000000 : \n",
    "- Score moyen X :\n",
    "\n",
    "\n",
    "- Longueur moyenne (steps) 1000 : 3.36\ 0.186",
    "- Longueur moyenne (steps) 10 000 : 3.27 \ 0.166",
    "- Longueur moyenne (steps) 100 000 : \n",
    "- Longueur moyenne (steps) 1 000000 : \n",
    "- Longueur moyenne (steps) X :"
   ]
  },
  {
   "cell_type": "markdown",
   "id": "a74d5c24",
   "metadata": {
    "vscode": {
     "languageId": "plaintext"
    }
   },
   "source": [
    "DoubleDeepQLearningWithExperienceReplay\n",
    "\n",
    "- Score moyen 1000 : 1.00\n",
    "- Score moyen 10 000 : 1.00\n",
    "- Score moyen 100 000 :\n",
    "- Score moyen 1 000000 :\n",
    "- Score moyen X :\n",
    "\n",
    "- Longueur moyenne (steps) 1000 : 4.00 / 0.045 ms\n",
    "- Longueur moyenne (steps) 10 000 : 4.00 /  0.043 ms\n",
    "- Longueur moyenne (steps) 100 000 : /\n",
    "- Longueur moyenne (steps) 1 000000 : /\n",
    "- Longueur moyenne (steps) X :"
   ]
  },
  {
   "cell_type": "markdown",
   "id": "861533b0",
   "metadata": {
    "vscode": {
     "languageId": "plaintext"
    }
   },
   "source": [
    "DoubleDeepQLearningWithPrioritizedExperienceReplay\n",
    "\n",
    "- Score moyen 1000 :\n",
    "- Score moyen 10 000 :\n",
    "- Score moyen 100 000 :\n",
    "- Score moyen 1 000000 :\n",
    "- Score moyen X :\n",
    "\n",
    "- Longueur moyenne (steps) 1000 :\n",
    "- Longueur moyenne (steps) 10 000 :\n",
    "- Longueur moyenne (steps) 100 000 :\n",
    "- Longueur moyenne (steps) 1 000000 :\n",
    "- Longueur moyenne (steps) X :"
   ]
  },
  {
   "cell_type": "markdown",
   "id": "f6f0a545",
   "metadata": {
    "vscode": {
     "languageId": "plaintext"
    }
   },
   "source": [
    "REINFORCE\n",
    "\n",
    "- Score moyen 1000 :\n",
    "- Score moyen 10 000 :\n",
    "- Score moyen 100 000 :\n",
    "- Score moyen 1 000000 :\n",
    "- Score moyen X :\n",
    "\n",
    "- Longueur moyenne (steps) 1000 :\n",
    "- Longueur moyenne (steps) 10 000 :\n",
    "- Longueur moyenne (steps) 100 000 :\n",
    "- Longueur moyenne (steps) 1 000000 :\n",
    "- Longueur moyenne (steps) X :"
   ]
  },
  {
   "cell_type": "markdown",
   "id": "c988dfbc",
   "metadata": {
    "vscode": {
     "languageId": "plaintext"
    }
   },
   "source": [
    "REINFORCE with mean baseline\n",
    "\n",
    "- Score moyen 1000 :\n",
    "- Score moyen 10 000 :\n",
    "- Score moyen 100 000 :\n",
    "- Score moyen 1 000000 :\n",
    "- Score moyen X :\n",
    "\n",
    "- Longueur moyenne (steps) 1000 :\n",
    "- Longueur moyenne (steps) 10 000 :\n",
    "- Longueur moyenne (steps) 100 000 :\n",
    "- Longueur moyenne (steps) 1 000000 :\n",
    "- Longueur moyenne (steps) X :\n"
   ]
  },
  {
   "cell_type": "markdown",
   "id": "e1949d5b",
   "metadata": {
    "vscode": {
     "languageId": "plaintext"
    }
   },
   "source": [
    "REINFORCE with Baseline Learned by a Critic\n",
    "\n",
    "- Score moyen 1000 :\n",
    "- Score moyen 10 000 :\n",
    "- Score moyen 100 000 :\n",
    "- Score moyen 1 000000 :\n",
    "- Score moyen X :\n",
    "\n",
    "- Longueur moyenne (steps) 1000 :\n",
    "- Longueur moyenne (steps) 10 000 :\n",
    "- Longueur moyenne (steps) 100 000 :\n",
    "- Longueur moyenne (steps) 1 000000 :\n",
    "- Longueur moyenne (steps) X :\n"
   ]
  },
  {
   "cell_type": "markdown",
   "id": "4b524b85",
   "metadata": {
    "vscode": {
     "languageId": "plaintext"
    }
   },
   "source": [
    "PPO A2C style\n",
    "\n",
    "- Score moyen 1000 :\n",
    "- Score moyen 10 000 :\n",
    "- Score moyen 100 000 :\n",
    "- Score moyen 1 000000 :\n",
    "- Score moyen X :\n",
    "\n",
    "- Longueur moyenne (steps) 1000 :\n",
    "- Longueur moyenne (steps) 10 000 :\n",
    "- Longueur moyenne (steps) 100 000 :\n",
    "- Longueur moyenne (steps) 1 000000 :\n",
    "- Longueur moyenne (steps) X :"
   ]
  },
  {
   "cell_type": "markdown",
   "id": "26095868",
   "metadata": {
    "vscode": {
     "languageId": "plaintext"
    }
   },
   "source": [
    "RandomRollout\n",
    "\n",
    "- Score moyen 1000 :\n",
    "- Score moyen 10 000 :\n",
    "- Score moyen 100 000 :\n",
    "- Score moyen 1 000000 :\n",
    "- Score moyen X :\n",
    "\n",
    "- Longueur moyenne (steps) 1000 :\n",
    "- Longueur moyenne (steps) 10 000 :\n",
    "- Longueur moyenne (steps) 100 000 :\n",
    "- Longueur moyenne (steps) 1 000000 :\n",
    "- Longueur moyenne (steps) X :"
   ]
  },
  {
   "cell_type": "markdown",
   "id": "42e9d5a7",
   "metadata": {
    "vscode": {
     "languageId": "plaintext"
    }
   },
   "source": [
    " Monte Carlo Tree Search (UCT)\n",
    " \n",
    "- Score moyen 1000 :\n",
    "- Score moyen 10 000 :\n",
    "- Score moyen 100 000 :\n",
    "- Score moyen 1 000000 :\n",
    "- Score moyen X :\n",
    "\n",
    "- Longueur moyenne (steps) 1000 :\n",
    "- Longueur moyenne (steps) 10 000 :\n",
    "- Longueur moyenne (steps) 100 000 :\n",
    "- Longueur moyenne (steps) 1 000000 :\n",
    "- Longueur moyenne (steps) X :"
   ]
  },
  {
   "cell_type": "markdown",
   "id": "6f305d42",
   "metadata": {
    "vscode": {
     "languageId": "plaintext"
    }
   },
   "source": [
    "Expert Apprentice\n",
    "\n",
    "- Score moyen 1000 :\n",
    "- Score moyen 10 000 :\n",
    "- Score moyen 100 000 :\n",
    "- Score moyen 1 000000 :\n",
    "- Score moyen X :\n",
    "\n",
    "- Longueur moyenne (steps) 1000 :\n",
    "- Longueur moyenne (steps) 10 000 :\n",
    "- Longueur moyenne (steps) 100 000 :\n",
    "- Longueur moyenne (steps) 1 000000 :\n",
    "- Longueur moyenne (steps) X :"
   ]
  }
 ],
 "metadata": {
  "language_info": {
   "name": "python"
  }
 },
 "nbformat": 4,
 "nbformat_minor": 5
}
