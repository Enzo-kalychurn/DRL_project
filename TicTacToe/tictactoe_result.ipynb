{
 "cells": [
  {
   "cell_type": "markdown",
   "id": "8166b691",
   "metadata": {},
   "source": [
    "RESULTATS METRIQUES"
   ]
  },
  {
   "cell_type": "markdown",
   "id": "167653d4",
   "metadata": {},
   "source": [
    "Random :\n",
    "\n",
    "- Score moyen 1000 : 1.00\n",
    "- Score moyen 10 000 : 1.00\n",
    "- Score moyen 100 000 : 1.00\n",
    "- Score moyen 1 000000 : 1.00\n",
    "- Score moyen X : 1.00\n",
    "\n",
    "- Longueur moyenne (steps) 1000 : 19.87 \n",
    "- Longueur moyenne (steps) 10 000 : 20.09\n",
    "- Longueur moyenne (steps) 100 000 : 19.98\n",
    "- Longueur moyenne (steps) 1 000000 :  19.99\n",
    "- Longueur moyenne (steps) X :"
   ]
  },
  {
   "cell_type": "markdown",
   "id": "cc100103",
   "metadata": {
    "vscode": {
     "languageId": "plaintext"
    }
   },
   "source": [
    "TabularQLearning :\n",
    "\n",
    "- Score moyen 1000 : 1.00\n",
    "- Score moyen 10 000 : 1.00\n",
    "- Score moyen 100 000 : 1.00\n",
    "- Score moyen 1 000000 : 1.00\n",
    "- Score moyen X :\n",
    "\n",
    "\n",
    "- Longueur moyenne (steps) 1000 : 4.00 / 0.002 ms\n",
    "- Longueur moyenne (steps) 10 000 : 4.00 / 0.002 ms\n",
    "- Longueur moyenne (steps) 100 000 : 4.00 / 0.003 ms\n",
    "- Longueur moyenne (steps) 1 000000 : \n",
    "- Longueur moyenne (steps) X :"
   ]
  },
  {
   "cell_type": "markdown",
   "id": "64f0f5c9",
   "metadata": {
    "vscode": {
     "languageId": "plaintext"
    }
   },
   "source": [
    "DeepQLearning\n",
    "\n",
    "- Score moyen 1000 : 1.00\n",
    "- Score moyen 10 000 : 1.00\n",
    "- Score moyen 100 000 : \n",
    "- Score moyen 1 000000 : \n",
    "- Score moyen X :\n",
    "\n",
    "- temps moyen :  0.036 ms\n",
    "\n",
    "- Longueur moyenne (steps) 1000 : 4.00\n",
    "- Longueur moyenne (steps) 10 000 : 4.00\n",
    "- Longueur moyenne (steps) 100 000 : \n",
    "- Longueur moyenne (steps) 1 000000 : \n",
    "- Longueur moyenne (steps) X :"
   ]
  },
  {
   "cell_type": "markdown",
   "id": "a74d5c24",
   "metadata": {
    "vscode": {
     "languageId": "plaintext"
    }
   },
   "source": [
    "DoubleDeepQLearningWithExperienceReplay\n",
    "\n",
    "- Score moyen 1000 : 1.00\n",
    "- Score moyen 10 000 : 1.00\n",
    "- Score moyen 100 000 :\n",
    "- Score moyen 1 000000 :\n",
    "- Score moyen X :\n",
    "\n",
    "- Longueur moyenne (steps) 1000 : 4.00 / 0.045 ms\n",
    "- Longueur moyenne (steps) 10 000 : 4.00 /  0.043 ms\n",
    "- Longueur moyenne (steps) 100 000 : /\n",
    "- Longueur moyenne (steps) 1 000000 : /\n",
    "- Longueur moyenne (steps) X :"
   ]
  },
  {
   "cell_type": "markdown",
   "id": "861533b0",
   "metadata": {
    "vscode": {
     "languageId": "plaintext"
    }
   },
   "source": [
    "DoubleDeepQLearningWithPrioritizedExperienceReplay\n",
    "\n",
    "- Score moyen 1000 : 0.210\n",
    "- Score moyen 10 000 : 0.400\n",
    "- Score moyen 100 000 :\n",
    "- Score moyen 1 000000 :\n",
    "- Score moyen X :\n",
    "\n",
    "- Longueur moyenne (steps) 1000 : 4.46 / 0.068 ms\n",
    "- Longueur moyenne (steps) 10 000 : 4.79 / 0.061 ms\n",
    "- Longueur moyenne (steps) 100 000 :\n",
    "- Longueur moyenne (steps) 1 000000 :\n",
    "- Longueur moyenne (steps) X :"
   ]
  },
  {
   "cell_type": "markdown",
   "id": "f6f0a545",
   "metadata": {
    "vscode": {
     "languageId": "plaintext"
    }
   },
   "source": [
    "REINFORCE\n",
    "\n",
    "- Score moyen 1000 : 0.420\n",
    "- Score moyen 10 000 : 0.490\n",
    "- Score moyen 100 000 :\n",
    "- Score moyen 1 000000 :\n",
    "- Score moyen X :\n",
    "\n",
    "- Longueur moyenne (steps) 1000 : 4.13 /0.209 ms\n",
    "- Longueur moyenne (steps) 10 000 :  4.06 / 0.211 ms\n",
    "- Longueur moyenne (steps) 100 000 :\n",
    "- Longueur moyenne (steps) 1 000000 :\n",
    "- Longueur moyenne (steps) X :"
   ]
  },
  {
   "cell_type": "markdown",
   "id": "c988dfbc",
   "metadata": {
    "vscode": {
     "languageId": "plaintext"
    }
   },
   "source": [
    "REINFORCE with mean baseline\n",
    "\n",
    "- Score moyen 1000 : 0.490\n",
    "- Score moyen 10 000 : 0.350\n",
    "- Score moyen 100 000 :\n",
    "- Score moyen 1 000000 :\n",
    "- Score moyen X :\n",
    "\n",
    "- Longueur moyenne (steps) 1000 : 4.22 / 0.256 ms\n",
    "- Longueur moyenne (steps) 10 000 : 4.07 /  0.206 ms\n",
    "- Longueur moyenne (steps) 100 000 :\n",
    "- Longueur moyenne (steps) 1 000000 :\n",
    "- Longueur moyenne (steps) X :\n"
   ]
  },
  {
   "cell_type": "markdown",
   "id": "e1949d5b",
   "metadata": {
    "vscode": {
     "languageId": "plaintext"
    }
   },
   "source": [
    "REINFORCE with Baseline Learned by a Critic\n",
    "\n",
    "- Score moyen 1000 : 0.330 \n",
    "- Score moyen 10 000 : 0.490\n",
    "- Score moyen 100 000 :\n",
    "- Score moyen 1 000000 :\n",
    "- Score moyen X :\n",
    "\n",
    "- Longueur moyenne (steps) 1000 : 4.13 / 0.210 ms\n",
    "- Longueur moyenne (steps) 10 000 :  4.12 / 0.209 ms\n",
    "- Longueur moyenne (steps) 100 000 :\n",
    "- Longueur moyenne (steps) 1 000000 :\n",
    "- Longueur moyenne (steps) X :\n"
   ]
  },
  {
   "cell_type": "markdown",
   "id": "4b524b85",
   "metadata": {
    "vscode": {
     "languageId": "plaintext"
    }
   },
   "source": [
    "PPO A2C style\n",
    "\n",
    "- Score moyen 1000 :\n",
    "- Score moyen 10 000 :\n",
    "- Score moyen 100 000 :\n",
    "- Score moyen 1 000000 :\n",
    "- Score moyen X :\n",
    "\n",
    "- Longueur moyenne (steps) 1000 :\n",
    "- Longueur moyenne (steps) 10 000 :\n",
    "- Longueur moyenne (steps) 100 000 :\n",
    "- Longueur moyenne (steps) 1 000000 :\n",
    "- Longueur moyenne (steps) X :"
   ]
  },
  {
   "cell_type": "markdown",
   "id": "26095868",
   "metadata": {
    "vscode": {
     "languageId": "plaintext"
    }
   },
   "source": [
    "RandomRollout\n",
    "\n",
    "- Score moyen 1000 : 0.580\n",
    "- Score moyen 10 000 :\n",
    "- Score moyen 100 000 :\n",
    "- Score moyen 1 000000 :\n",
    "- Score moyen X :\n",
    "\n",
    "- Longueur moyenne (steps) 1000 : 3.49 /3.263 ms\n",
    "- Longueur moyenne (steps) 10 000 :\n",
    "- Longueur moyenne (steps) 100 000 :\n",
    "- Longueur moyenne (steps) 1 000000 :\n",
    "- Longueur moyenne (steps) X :"
   ]
  },
  {
   "cell_type": "markdown",
   "id": "42e9d5a7",
   "metadata": {
    "vscode": {
     "languageId": "plaintext"
    }
   },
   "source": [
    " Monte Carlo Tree Search (UCT)\n",
    " \n",
    "- Score moyen 1000 : 0.670\n",
    "- Score moyen 10 000 :\n",
    "- Score moyen 100 000 :\n",
    "- Score moyen 1 000000 :\n",
    "- Score moyen X :\n",
    "\n",
    "- Longueur moyenne (steps) 1000 : 3.35 / 6.121 ms\n",
    "- Longueur moyenne (steps) 10 000 :\n",
    "- Longueur moyenne (steps) 100 000 :\n",
    "- Longueur moyenne (steps) 1 000000 :\n",
    "- Longueur moyenne (steps) X :"
   ]
  },
  {
   "cell_type": "markdown",
   "id": "6f305d42",
   "metadata": {
    "vscode": {
     "languageId": "plaintext"
    }
   },
   "source": [
    "Expert Apprentice\n",
    "\n",
    "- Score moyen 1000 :  0.650\n",
    "- Score moyen 10 000 :\n",
    "- Score moyen 100 000 :\n",
    "- Score moyen 1 000000 :\n",
    "- Score moyen X :\n",
    "\n",
    "- Longueur moyenne (steps) 1000 : 3.37 / 0.003 ms\n",
    "- Longueur moyenne (steps) 10 000 :\n",
    "- Longueur moyenne (steps) 100 000 :\n",
    "- Longueur moyenne (steps) 1 000000 :\n",
    "- Longueur moyenne (steps) X :"
   ]
  }
 ],
 "metadata": {
  "language_info": {
   "name": "python"
  }
 },
 "nbformat": 4,
 "nbformat_minor": 5
}
